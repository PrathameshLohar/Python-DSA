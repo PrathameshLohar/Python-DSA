{
 "cells": [
  {
   "cell_type": "code",
   "execution_count": 3,
   "metadata": {},
   "outputs": [],
   "source": [
    "class Fraction:\n",
    "    def __init__(self, top, bottom):\n",
    "        self.num = top\n",
    "        self.den = bottom\n",
    "        try:\n",
    "            type(self.num)== type(self.den)== int\n",
    "        except:\n",
    "            raise \"num and denom are not integer\"\n",
    "    def __str__(self):\n",
    "        return str(self.num) + \"/\" + str(self.den)\n",
    "    def show(self):\n",
    "        print(self.num, \"/\", self.den)\n",
    "    def __add__(self, other_fraction):\n",
    "        new_num = self.num * other_fraction.den + \\\n",
    "        self.den * other_fraction.num\n",
    "        new_den = self.den * other_fraction.den\n",
    "        common = gcd(new_num, new_den)\n",
    "        return Fraction(new_num // common, new_den // common)\n",
    "    def __eq__(self, other):\n",
    "        first_num = self.num * other.den\n",
    "        second_num = other.num * self.den\n",
    "        return first_num == second_num"
   ]
  },
  {
   "cell_type": "code",
   "execution_count": 5,
   "metadata": {},
   "outputs": [],
   "source": [
    "fraction= Fraction(2,2.5)"
   ]
  },
  {
   "cell_type": "code",
   "execution_count": 6,
   "metadata": {},
   "outputs": [
    {
     "name": "stdout",
     "output_type": "stream",
     "text": [
      "2 / 2.5\n"
     ]
    }
   ],
   "source": [
    "fraction.show()"
   ]
  },
  {
   "cell_type": "code",
   "execution_count": 11,
   "metadata": {},
   "outputs": [
    {
     "ename": "AttributeError",
     "evalue": "'int' object has no attribute 'den'",
     "output_type": "error",
     "traceback": [
      "\u001b[1;31m---------------------------------------------------------------------------\u001b[0m",
      "\u001b[1;31mAttributeError\u001b[0m                            Traceback (most recent call last)",
      "\u001b[1;32md:\\Coading\\Python\\Practice\\new.ipynb Cell 4\u001b[0m line \u001b[0;36m1\n\u001b[1;32m----> <a href='vscode-notebook-cell:/d%3A/Coading/Python/Practice/new.ipynb#W3sZmlsZQ%3D%3D?line=0'>1</a>\u001b[0m fraction\u001b[39m.\u001b[39;49m\u001b[39m__add__\u001b[39;49m(\u001b[39m4\u001b[39;49m)\n",
      "\u001b[1;32md:\\Coading\\Python\\Practice\\new.ipynb Cell 4\u001b[0m line \u001b[0;36m1\n\u001b[0;32m     <a href='vscode-notebook-cell:/d%3A/Coading/Python/Practice/new.ipynb#W3sZmlsZQ%3D%3D?line=12'>13</a>\u001b[0m \u001b[39mdef\u001b[39;00m \u001b[39m__add__\u001b[39m(\u001b[39mself\u001b[39m, other_fraction):\n\u001b[1;32m---> <a href='vscode-notebook-cell:/d%3A/Coading/Python/Practice/new.ipynb#W3sZmlsZQ%3D%3D?line=13'>14</a>\u001b[0m     new_num \u001b[39m=\u001b[39m \u001b[39mself\u001b[39m\u001b[39m.\u001b[39mnum \u001b[39m*\u001b[39m other_fraction\u001b[39m.\u001b[39;49mden \u001b[39m+\u001b[39m \\\n\u001b[0;32m     <a href='vscode-notebook-cell:/d%3A/Coading/Python/Practice/new.ipynb#W3sZmlsZQ%3D%3D?line=14'>15</a>\u001b[0m     \u001b[39mself\u001b[39m\u001b[39m.\u001b[39mden \u001b[39m*\u001b[39m other_fraction\u001b[39m.\u001b[39mnum\n\u001b[0;32m     <a href='vscode-notebook-cell:/d%3A/Coading/Python/Practice/new.ipynb#W3sZmlsZQ%3D%3D?line=15'>16</a>\u001b[0m     new_den \u001b[39m=\u001b[39m \u001b[39mself\u001b[39m\u001b[39m.\u001b[39mden \u001b[39m*\u001b[39m other_fraction\u001b[39m.\u001b[39mden\n\u001b[0;32m     <a href='vscode-notebook-cell:/d%3A/Coading/Python/Practice/new.ipynb#W3sZmlsZQ%3D%3D?line=16'>17</a>\u001b[0m     common \u001b[39m=\u001b[39m gcd(new_num, new_den)\n",
      "\u001b[1;31mAttributeError\u001b[0m: 'int' object has no attribute 'den'"
     ]
    }
   ],
   "source": [
    "fraction.__add__(4)"
   ]
  },
  {
   "cell_type": "code",
   "execution_count": null,
   "metadata": {},
   "outputs": [],
   "source": []
  }
 ],
 "metadata": {
  "kernelspec": {
   "display_name": "Pandas & Numpy",
   "language": "python",
   "name": "python3"
  },
  "language_info": {
   "codemirror_mode": {
    "name": "ipython",
    "version": 3
   },
   "file_extension": ".py",
   "mimetype": "text/x-python",
   "name": "python",
   "nbconvert_exporter": "python",
   "pygments_lexer": "ipython3",
   "version": "3.11.0"
  }
 },
 "nbformat": 4,
 "nbformat_minor": 2
}
