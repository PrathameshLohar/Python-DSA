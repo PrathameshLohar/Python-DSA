{
 "cells": [
  {
   "cell_type": "code",
   "execution_count": 32,
   "metadata": {},
   "outputs": [
    {
     "data": {
      "text/plain": [
       "10"
      ]
     },
     "execution_count": 32,
     "metadata": {},
     "output_type": "execute_result"
    }
   ],
   "source": [
    "# 1. Question: Write a function that takes a list of numbers and returns the sum.\n",
    "\n",
    "def num_sum (nums):\n",
    "    return sum(nums)\n",
    "\n",
    "lst = [1,2,3,4]\n",
    "num_sum(lst)"
   ]
  },
  {
   "cell_type": "code",
   "execution_count": 33,
   "metadata": {},
   "outputs": [
    {
     "data": {
      "text/plain": [
       "'olleH'"
      ]
     },
     "execution_count": 33,
     "metadata": {},
     "output_type": "execute_result"
    }
   ],
   "source": [
    "# 2. Question: How do you reverse a string in Python?\n",
    "\n",
    "def rev_str(str):\n",
    "    return str[::-1]\n",
    "\n",
    "rev_str('Hello')"
   ]
  },
  {
   "cell_type": "code",
   "execution_count": 34,
   "metadata": {},
   "outputs": [
    {
     "ename": "TypeError",
     "evalue": "'list' object is not callable",
     "output_type": "error",
     "traceback": [
      "\u001b[1;31m---------------------------------------------------------------------------\u001b[0m",
      "\u001b[1;31mTypeError\u001b[0m                                 Traceback (most recent call last)",
      "\u001b[1;32md:\\Coading\\Python\\Practice\\Python_Interview_practise_questions.ipynb Cell 3\u001b[0m line \u001b[0;36m7\n\u001b[0;32m      <a href='vscode-notebook-cell:/d%3A/Coading/Python/Practice/Python_Interview_practise_questions.ipynb#W2sZmlsZQ%3D%3D?line=0'>1</a>\u001b[0m \u001b[39m# 3. Question: What is the difference between a tuple and a list?\u001b[39;00m\n\u001b[0;32m      <a href='vscode-notebook-cell:/d%3A/Coading/Python/Practice/Python_Interview_practise_questions.ipynb#W2sZmlsZQ%3D%3D?line=1'>2</a>\u001b[0m \u001b[39m# Solution :- lists are mutable, where tuples are immutable.\u001b[39;00m\n\u001b[0;32m      <a href='vscode-notebook-cell:/d%3A/Coading/Python/Practice/Python_Interview_practise_questions.ipynb#W2sZmlsZQ%3D%3D?line=2'>3</a>\u001b[0m \u001b[39m# lists are slower than tuple \u001b[39;00m\n\u001b[0;32m      <a href='vscode-notebook-cell:/d%3A/Coading/Python/Practice/Python_Interview_practise_questions.ipynb#W2sZmlsZQ%3D%3D?line=3'>4</a>\u001b[0m \u001b[39m# tuples are used where the data is required for short term.\u001b[39;00m\n\u001b[0;32m      <a href='vscode-notebook-cell:/d%3A/Coading/Python/Practice/Python_Interview_practise_questions.ipynb#W2sZmlsZQ%3D%3D?line=5'>6</a>\u001b[0m tup\u001b[39m=\u001b[39m \u001b[39mtuple\u001b[39m([\u001b[39m1\u001b[39m,\u001b[39m2\u001b[39m,\u001b[39m3\u001b[39m,\u001b[39m4\u001b[39m,\u001b[39m'\u001b[39m\u001b[39mh\u001b[39m\u001b[39m'\u001b[39m])\n\u001b[1;32m----> <a href='vscode-notebook-cell:/d%3A/Coading/Python/Practice/Python_Interview_practise_questions.ipynb#W2sZmlsZQ%3D%3D?line=6'>7</a>\u001b[0m lst \u001b[39m=\u001b[39m \u001b[39mlist\u001b[39;49m([\u001b[39m1\u001b[39;49m,\u001b[39m2\u001b[39;49m,\u001b[39m3\u001b[39;49m,\u001b[39m4\u001b[39;49m,\u001b[39m'\u001b[39;49m\u001b[39mh\u001b[39;49m\u001b[39m'\u001b[39;49m])\n",
      "\u001b[1;31mTypeError\u001b[0m: 'list' object is not callable"
     ]
    }
   ],
   "source": [
    "# 3. Question: What is the difference between a tuple and a list?\n",
    "# Solution :- lists are mutable, where tuples are immutable.\n",
    "# lists are slower than tuple \n",
    "# tuples are used where the data is required for short term.\n",
    "\n",
    "tup= tuple([1,2,3,4,'h'])\n",
    "lst = list([1,2,3,4,'h'])"
   ]
  },
  {
   "cell_type": "code",
   "execution_count": null,
   "metadata": {},
   "outputs": [
    {
     "data": {
      "text/plain": [
       "False"
      ]
     },
     "execution_count": 4,
     "metadata": {},
     "output_type": "execute_result"
    }
   ],
   "source": [
    "# 4. Question: Write a function that checks if a given word is a palindrome.\n",
    "\n",
    "def palindrome(str):\n",
    "    return str == str[::-1]\n",
    "\n",
    "palindrome('tenet')\n",
    "palindrome('hello')"
   ]
  },
  {
   "cell_type": "code",
   "execution_count": null,
   "metadata": {},
   "outputs": [
    {
     "name": "stdout",
     "output_type": "stream",
     "text": [
      "[1, 2, 3, 4]\n"
     ]
    }
   ],
   "source": [
    "# 5. Question: How can you remove duplicates from a list?\n",
    "\n",
    "def remove_duplicates(lst):\n",
    "    return list(set(lst))\n",
    "\n",
    "lst= [1,2,2,3,4]\n",
    "\n",
    "remove_duplicates(lst)\n",
    "\n",
    "# Note: This method will not maintain the original order of the list. To maintain the order, you can use a loop or a list comprehension.\n",
    "f_lst=[]\n",
    "for i in lst:\n",
    "    if i in f_lst:\n",
    "        continue\n",
    "    else:\n",
    "        f_lst.append(i)\n",
    "\n",
    "print(f_lst)"
   ]
  },
  {
   "cell_type": "code",
   "execution_count": null,
   "metadata": {},
   "outputs": [
    {
     "name": "stdout",
     "output_type": "stream",
     "text": [
      "exception is handled successfully\n"
     ]
    }
   ],
   "source": [
    "# 6. Question: How do you handle exceptions in Python?\n",
    "try:\n",
    "    x =1/ 0\n",
    "except ZeroDivisionError:\n",
    "    print('exception is handled successfully')"
   ]
  },
  {
   "cell_type": "markdown",
   "metadata": {},
   "source": [
    "## Advanced"
   ]
  },
  {
   "cell_type": "code",
   "execution_count": null,
   "metadata": {},
   "outputs": [
    {
     "data": {
      "text/plain": [
       "6"
      ]
     },
     "execution_count": 7,
     "metadata": {},
     "output_type": "execute_result"
    }
   ],
   "source": [
    "# 7. Question: What is a lambda function? Provide an example.\n",
    "\n",
    "# sol:- the lamda function is the anonymous function (means they have no name)\n",
    "# - the lamda function can take any number of arguments but can only have one expression.\n",
    "\n",
    "multiply= lambda x,y : x*y\n",
    "multiply(2,3)"
   ]
  },
  {
   "cell_type": "code",
   "execution_count": null,
   "metadata": {},
   "outputs": [
    {
     "data": {
      "text/plain": [
       "8"
      ]
     },
     "execution_count": 8,
     "metadata": {},
     "output_type": "execute_result"
    }
   ],
   "source": [
    "# 8. Question: Write a function that returns the n-th Fibonacci number using recursion.\n",
    "# 0,1,1,2,3,5,......\n",
    "# n is the place of fibbonacci series element\n",
    "def fibbonacci(n):\n",
    "    if n<=1:\n",
    "        return n\n",
    "    else:\n",
    "        return fibbonacci(n-1) + fibbonacci(n-2)\n",
    "    \n",
    "fibbonacci(6)"
   ]
  },
  {
   "cell_type": "code",
   "execution_count": null,
   "metadata": {},
   "outputs": [
    {
     "name": "stdout",
     "output_type": "stream",
     "text": [
      "Something happened before the function is called\n",
      "Hello\n",
      "Something is happened after the function is called\n"
     ]
    }
   ],
   "source": [
    "# 9. Question: What are decorators in Python and how are they used?\n",
    "# sol:- the decorators are used to modify or extend the behaviour of the callable objects (like functions or methods) without permentaly modifying the callable itself.\n",
    "# - the decorators are often used in frameworks to add funcationality to functions or methods.\n",
    "\n",
    "def my_decorator(func):\n",
    "\n",
    "    def wrapper():\n",
    "        print('Something happened before the function is called')\n",
    "        func()\n",
    "        print('Something is happened after the function is called')\n",
    "\n",
    "    return wrapper \n",
    "\n",
    "@my_decorator\n",
    "def say_hello():\n",
    "    print('Hello')\n",
    "\n",
    "say_hello()"
   ]
  },
  {
   "cell_type": "markdown",
   "metadata": {},
   "source": [
    "### Intermediate"
   ]
  },
  {
   "cell_type": "code",
   "execution_count": null,
   "metadata": {},
   "outputs": [
    {
     "data": {
      "text/plain": [
       "[1, 2, 3, 4]"
      ]
     },
     "execution_count": 10,
     "metadata": {},
     "output_type": "execute_result"
    }
   ],
   "source": [
    "# 10. Question: How do you deep copy an object in Python?\n",
    "# sol :- we can use the deepcopy method from copy module\n",
    "\n",
    "import copy \n",
    "og= [1,2,3,4]\n",
    "cp= copy.deepcopy(og)\n",
    "# cp\n",
    "\n",
    "from copy import deepcopy as dp\n",
    "dp(og)\n"
   ]
  },
  {
   "cell_type": "code",
   "execution_count": null,
   "metadata": {},
   "outputs": [
    {
     "data": {
      "text/plain": [
       "[1, 4, 9, 16, 25, 36, 49, 64, 81]"
      ]
     },
     "execution_count": 11,
     "metadata": {},
     "output_type": "execute_result"
    }
   ],
   "source": [
    "# 11. Question: What is list comprehension and provide an example?\n",
    "# solution :- the list comprehenssion is an concise way to create an list \n",
    "\n",
    "lst = [x**2 for x in range (1,10)]\n",
    "lst"
   ]
  },
  {
   "cell_type": "code",
   "execution_count": null,
   "metadata": {},
   "outputs": [],
   "source": [
    "# 12. Question: What is the difference between == and is?\n",
    "# solution:- == checks for equality and 'is' checks for identity(wheather two references point to tha same object in memory)"
   ]
  },
  {
   "cell_type": "markdown",
   "metadata": {},
   "source": [
    "### Advanced"
   ]
  },
  {
   "cell_type": "code",
   "execution_count": null,
   "metadata": {},
   "outputs": [
    {
     "name": "stdout",
     "output_type": "stream",
     "text": [
      "1\n",
      "2\n",
      "3\n",
      "{'a': 2, 'b': 4, 'c': 6}\n"
     ]
    }
   ],
   "source": [
    "# 13. Question: Explain the concept of *args and **kwargs in Python.\n",
    "\n",
    "# sol :- *args allows us to pass the variable number of positional arguments to a function, **kwargs allows us to pass an variable number of keyword arguments.\n",
    "\n",
    "def fun(*args, **kwargs):\n",
    "    for arg in args:\n",
    "        print(arg)\n",
    "    d1= dict()\n",
    "    for key, value in kwargs.items():\n",
    "        d1[key]=value\n",
    "        # print(f'{key}: {value}')\n",
    "    print(d1)\n",
    "\n",
    "fun(1,2,3, a=2,b=4, c=6)\n",
    "\n"
   ]
  },
  {
   "cell_type": "code",
   "execution_count": null,
   "metadata": {},
   "outputs": [],
   "source": [
    "# type(dict)"
   ]
  },
  {
   "cell_type": "code",
   "execution_count": null,
   "metadata": {},
   "outputs": [],
   "source": [
    "# d1= {}\n",
    "# type(d1)"
   ]
  },
  {
   "cell_type": "code",
   "execution_count": null,
   "metadata": {},
   "outputs": [],
   "source": [
    "# s1= {1,2,3}\n",
    "# type(s1)"
   ]
  },
  {
   "cell_type": "code",
   "execution_count": null,
   "metadata": {},
   "outputs": [
    {
     "name": "stdout",
     "output_type": "stream",
     "text": [
      "<generator object count_up_to at 0x00000145F4B10E10>\n"
     ]
    }
   ],
   "source": [
    "# 14. Question: What is a generator and how is it different from a list?\n",
    "# solution : A generator is an iterable that yields items one at a time using a 'yield' statement, whereas a list holds all its items in memory.\n",
    "# -Generetors are more memory-efficient for large data sets. \n",
    "\n",
    "def count_up_to(n):\n",
    "    count = 1\n",
    "    while count<= n:\n",
    "        yield count\n",
    "        count += 1\n",
    "    return count\n",
    "print(count_up_to(5))"
   ]
  },
  {
   "cell_type": "code",
   "execution_count": null,
   "metadata": {},
   "outputs": [
    {
     "name": "stdout",
     "output_type": "stream",
     "text": [
      "1a\n",
      "b\n",
      "c\n",
      "d\n",
      "e\n",
      "f\n",
      "\n",
      "2\n",
      "3\n",
      "4\n",
      "5\n"
     ]
    }
   ],
   "source": [
    "# 15. Question: How can you achieve multi-threading in Python?\n",
    "\n",
    "# Answer: Python has a threading module which can be used to achieve multi-threading.\n",
    "\n",
    "import threading\n",
    "\n",
    "def print_numbers():\n",
    "    for i in range(1,6):\n",
    "        print(i)\n",
    "\n",
    "def print_letters():\n",
    "    for i in 'abcdef':\n",
    "        print(i)\n",
    "\n",
    "t1 = threading.Thread(target= print_numbers)\n",
    "t2 = threading.Thread(target= print_letters)\n",
    "\n",
    "t1.start()\n",
    "t2.start()\n",
    "\n",
    "t1.join()\n",
    "t2.join()"
   ]
  },
  {
   "cell_type": "code",
   "execution_count": null,
   "metadata": {},
   "outputs": [
    {
     "data": {
      "text/plain": [
       "{'banana': 10, 'apple': 15, 'cherry': 20}"
      ]
     },
     "execution_count": 19,
     "metadata": {},
     "output_type": "execute_result"
    }
   ],
   "source": [
    "# 19. Question: How do you sort a dictionary by its values?\n",
    "\n",
    "d = {'apple': 15, 'banana': 10, 'cherry': 20}\n",
    "sorted_d = dict(sorted(d.items(), key=lambda item: item[1]))\n",
    "sorted_d"
   ]
  },
  {
   "cell_type": "code",
   "execution_count": null,
   "metadata": {},
   "outputs": [
    {
     "name": "stdout",
     "output_type": "stream",
     "text": [
      "hello prathamesh\n",
      "hello prathamesh\n",
      "hello prathamesh\n"
     ]
    }
   ],
   "source": [
    "# 20. Question: How is string interpolation done in Python?\n",
    "# using %, f\"\", .format()\n",
    "\n",
    "name = 'prathamesh'\n",
    "\n",
    "print('hello %s' % name)\n",
    "print(f'hello {name}')\n",
    "print('hello {}'.format(name))"
   ]
  },
  {
   "cell_type": "code",
   "execution_count": null,
   "metadata": {},
   "outputs": [
    {
     "name": "stdout",
     "output_type": "stream",
     "text": [
      "a 10\n",
      "b 4\n"
     ]
    }
   ],
   "source": [
    "# 23. Question: How do you swap two variables in Python?\n",
    "# solution: in python we can swap two variables w/o any third variable like below\n",
    "\n",
    "a, b= 4, 10\n",
    "a, b= b,a\n",
    "print('a',a)\n",
    "print('b',b)"
   ]
  },
  {
   "cell_type": "code",
   "execution_count": null,
   "metadata": {},
   "outputs": [
    {
     "data": {
      "text/plain": [
       "['__abs__',\n",
       " '__add__',\n",
       " '__and__',\n",
       " '__bool__',\n",
       " '__ceil__',\n",
       " '__class__',\n",
       " '__delattr__',\n",
       " '__dir__',\n",
       " '__divmod__',\n",
       " '__doc__',\n",
       " '__eq__',\n",
       " '__float__',\n",
       " '__floor__',\n",
       " '__floordiv__',\n",
       " '__format__',\n",
       " '__ge__',\n",
       " '__getattribute__',\n",
       " '__getnewargs__',\n",
       " '__getstate__',\n",
       " '__gt__',\n",
       " '__hash__',\n",
       " '__index__',\n",
       " '__init__',\n",
       " '__init_subclass__',\n",
       " '__int__',\n",
       " '__invert__',\n",
       " '__le__',\n",
       " '__lshift__',\n",
       " '__lt__',\n",
       " '__mod__',\n",
       " '__mul__',\n",
       " '__ne__',\n",
       " '__neg__',\n",
       " '__new__',\n",
       " '__or__',\n",
       " '__pos__',\n",
       " '__pow__',\n",
       " '__radd__',\n",
       " '__rand__',\n",
       " '__rdivmod__',\n",
       " '__reduce__',\n",
       " '__reduce_ex__',\n",
       " '__repr__',\n",
       " '__rfloordiv__',\n",
       " '__rlshift__',\n",
       " '__rmod__',\n",
       " '__rmul__',\n",
       " '__ror__',\n",
       " '__round__',\n",
       " '__rpow__',\n",
       " '__rrshift__',\n",
       " '__rshift__',\n",
       " '__rsub__',\n",
       " '__rtruediv__',\n",
       " '__rxor__',\n",
       " '__setattr__',\n",
       " '__sizeof__',\n",
       " '__str__',\n",
       " '__sub__',\n",
       " '__subclasshook__',\n",
       " '__truediv__',\n",
       " '__trunc__',\n",
       " '__xor__',\n",
       " 'as_integer_ratio',\n",
       " 'bit_count',\n",
       " 'bit_length',\n",
       " 'conjugate',\n",
       " 'denominator',\n",
       " 'from_bytes',\n",
       " 'imag',\n",
       " 'numerator',\n",
       " 'real',\n",
       " 'to_bytes']"
      ]
     },
     "execution_count": 22,
     "metadata": {},
     "output_type": "execute_result"
    }
   ],
   "source": [
    "# Python Magic Methods \n",
    "dir(int)"
   ]
  },
  {
   "cell_type": "code",
   "execution_count": null,
   "metadata": {},
   "outputs": [
    {
     "name": "stdout",
     "output_type": "stream",
     "text": [
      "l is instance\n"
     ]
    }
   ],
   "source": [
    "# 26. Question: How do you check if a variable is an instance of a particular type?\n",
    "# Answer: You can use the isinstance() function.\n",
    "l= [1,2,3]\n",
    "\n",
    "if isinstance(l, list):\n",
    "    print('l is instance')"
   ]
  },
  {
   "cell_type": "code",
   "execution_count": null,
   "metadata": {},
   "outputs": [
    {
     "name": "stdout",
     "output_type": "stream",
     "text": [
      "0\n",
      "1\n",
      "2\n",
      "3\n",
      "4\n",
      "loop is exited !!\n"
     ]
    }
   ],
   "source": [
    "# 27. Question: What does the else clause in a loop do?\n",
    "# Answer: The else clause in a loop is executed when the loop finishes execution (i.e., when the loop condition becomes False). It won't execute if the loop was exited using a break statement.\n",
    "\n",
    "for i in range(5):\n",
    "    print (i)\n",
    "else:\n",
    "    print('loop is exited !!')\n"
   ]
  },
  {
   "cell_type": "code",
   "execution_count": null,
   "metadata": {},
   "outputs": [],
   "source": [
    "# 28. Question: What is the purpose of the pass statement in Python?\n",
    "# Answer: The pass statement is a no-op (does nothing). It's used as a placeholder where syntactically some code is required, but you don't want to execute any command or code.\n",
    "\n",
    "try:\n",
    "    if(1>5):\n",
    "        pass\n",
    "except:\n",
    "    print('except is executed !!')\n"
   ]
  },
  {
   "cell_type": "code",
   "execution_count": null,
   "metadata": {},
   "outputs": [
    {
     "name": "stdout",
     "output_type": "stream",
     "text": [
      "one\n",
      "dict_keys([1, 2, 3])\n",
      "dict_values(['one', 'two', 'three'])\n",
      "dict_items([(1, 'one'), (2, 'two'), (3, 'three')])\n",
      "\n",
      "\n",
      "(3, 'three')\n",
      "{1: 'one', 2: 'two'}\n"
     ]
    }
   ],
   "source": [
    "# 29. Question: How do you retrieve all the keys, values, and items from a dictionary?\n",
    "# Answer: You can use the methods keys(), values(), and items() respectively.\n",
    "\n",
    "dict = {\n",
    "    1: 'one',\n",
    "    2: 'two',\n",
    "    3: 'three'\n",
    "}\n",
    "print(dict.get(1))\n",
    "print(dict.keys())\n",
    "print(dict.values())\n",
    "print(dict.items())\n",
    "print('\\n')\n",
    "print(dict.popitem())\n",
    "print(dict)"
   ]
  },
  {
   "cell_type": "code",
   "execution_count": null,
   "metadata": {},
   "outputs": [],
   "source": [
    "# 30. Question: What is the difference between __new__ and __init__ in a class?\n",
    "# Answer: __new__ is responsible for creating and returning a new instance of the class, while __init__ is responsible for initializing the created object.\n",
    "\n"
   ]
  },
  {
   "cell_type": "code",
   "execution_count": null,
   "metadata": {},
   "outputs": [],
   "source": [
    "# 31. Question: What is the difference between an Iterable and an Iterator?\n",
    "# Answer:\n",
    "# Iterable: An object which has an __iter__ method that returns an iterator.\n",
    "# Iterator: An object that can return its items one at a time using the __next__ method and implements the __iter__ method. it doesn't store the elements at the address\n",
    "\n",
    "# simillarly for tuple, dictionary, and sets.\n",
    "# tuple= (1,2,3,4,5)\n",
    "# t=iter(tuple)\n",
    "# t.__next__()\n",
    "list = [1,2,3,4] # list is iterable.\n",
    "l1= iter(list)"
   ]
  },
  {
   "cell_type": "code",
   "execution_count": null,
   "metadata": {},
   "outputs": [
    {
     "data": {
      "text/plain": [
       "1"
      ]
     },
     "execution_count": 29,
     "metadata": {},
     "output_type": "execute_result"
    }
   ],
   "source": [
    "l1.__next__()"
   ]
  },
  {
   "cell_type": "code",
   "execution_count": null,
   "metadata": {},
   "outputs": [
    {
     "name": "stdout",
     "output_type": "stream",
     "text": [
      "2\n",
      "3\n",
      "4\n"
     ]
    }
   ],
   "source": [
    "# another way to iterate element's from iterator is 'for loop'\n",
    "\n",
    "for i in l1:\n",
    "    print(i) \n",
    "\n",
    "# we get output as from 2 3 4, when we run above cell, this is because of the pointer goes at next place..\n",
    "# in for loop the 'iteation stopped' error is handled, which what we get at the __next__() method(when we extract an elements afte the last element.)"
   ]
  },
  {
   "cell_type": "code",
   "execution_count": null,
   "metadata": {},
   "outputs": [
    {
     "ename": "TypeError",
     "evalue": "'list' object is not callable",
     "output_type": "error",
     "traceback": [
      "\u001b[1;31m---------------------------------------------------------------------------\u001b[0m",
      "\u001b[1;31mTypeError\u001b[0m                                 Traceback (most recent call last)",
      "\u001b[1;32md:\\Coading\\Python\\Practice\\Python_Interview_practise_questions.ipynb Cell 34\u001b[0m line \u001b[0;36m6\n\u001b[0;32m      <a href='vscode-notebook-cell:/d%3A/Coading/Python/Practice/Python_Interview_practise_questions.ipynb#X45sZmlsZQ%3D%3D?line=3'>4</a>\u001b[0m l1\u001b[39m=\u001b[39m [\u001b[39m1\u001b[39m,\u001b[39m2\u001b[39m,\u001b[39m3\u001b[39m,\u001b[39m4\u001b[39m]\n\u001b[0;32m      <a href='vscode-notebook-cell:/d%3A/Coading/Python/Practice/Python_Interview_practise_questions.ipynb#X45sZmlsZQ%3D%3D?line=4'>5</a>\u001b[0m squared\u001b[39m=\u001b[39m \u001b[39mmap\u001b[39m(\u001b[39mlambda\u001b[39;00m x: x\u001b[39m*\u001b[39m\u001b[39m*\u001b[39m\u001b[39m2\u001b[39m, l1)\n\u001b[1;32m----> <a href='vscode-notebook-cell:/d%3A/Coading/Python/Practice/Python_Interview_practise_questions.ipynb#X45sZmlsZQ%3D%3D?line=5'>6</a>\u001b[0m \u001b[39mprint\u001b[39m(\u001b[39mlist\u001b[39;49m(squared))  \n",
      "\u001b[1;31mTypeError\u001b[0m: 'list' object is not callable"
     ]
    }
   ],
   "source": [
    "# 32. Question: How does the map function work in Python?\n",
    "# Answer: The map function applies a given function to all the items in an input list (or another iterable). For example:\n",
    "\n",
    "l1= [1,2,3,4]\n",
    "squared= map(lambda x: x**2, l1)\n",
    "# print(list(squared))  "
   ]
  },
  {
   "cell_type": "code",
   "execution_count": null,
   "metadata": {},
   "outputs": [
    {
     "name": "stdout",
     "output_type": "stream",
     "text": [
      "hello\n"
     ]
    }
   ],
   "source": [
    "# 33. Question: What are context managers in Python? Provide an example.\n",
    "# Answer: Context managers allow resources to be properly managed and cleaned up after use. The most common example is opening files using the with statement.\n",
    "\n",
    "with open(\"demo.txt\",'r') as file: #it doesnt create file if it is not exits, instead it throws an error.\n",
    "    content = file.read()\n",
    "print(content)\n",
    "\n",
    "# Here, the file is automatically closed after reading, even if an exception occurs within the with block."
   ]
  },
  {
   "cell_type": "code",
   "execution_count": null,
   "metadata": {},
   "outputs": [
    {
     "name": "stdout",
     "output_type": "stream",
     "text": [
      "10\n"
     ]
    }
   ],
   "source": [
    "# 34. Question: How can you dynamically create a new class at runtime?\n",
    "# Answer: You can use the type() function.\n",
    "Myclass = type('Myclass', (object,),{'x': 10})\n",
    "obj= Myclass()\n",
    "print(obj.x)"
   ]
  },
  {
   "cell_type": "code",
   "execution_count": null,
   "metadata": {},
   "outputs": [
    {
     "name": "stdout",
     "output_type": "stream",
     "text": [
      "[('Prathamesh', 1), ('Hitesh', 2), ('Rishikesh', 3)]\n"
     ]
    }
   ],
   "source": [
    "# 35. Question: What does the zip function do in Python?\n",
    "# Answer: The zip function takes two or more iterables as arguments and returns an iterator that generates tuples containing elements from the input iterables. Elements are paired based on their order.\n",
    "names= ['Prathamesh', 'Hitesh', 'Rishikesh']\n",
    "roll= [1,2,3]\n",
    "result= zip(names,roll) # returns the list of tuples.\n",
    "print(list(result))"
   ]
  },
  {
   "cell_type": "code",
   "execution_count": null,
   "metadata": {},
   "outputs": [
    {
     "name": "stdout",
     "output_type": "stream",
     "text": [
      "{1: 'Prathamesh', 2: 'Hitesh', 3: 'Rushyaa', 5: 'Sakshi'}\n",
      "{1: 'Prathamesh', 2: 'Hitesh', 3: 'Rushyaa', 5: 'Sakshi'}\n",
      "{1: 'Prathamesh', 2: 'Hitesh', 3: 'Rushyaa', 5: 'Sakshi'}\n"
     ]
    }
   ],
   "source": [
    "# 36. Question: How can you merge two dictionaries?\n",
    "# Answer: In Python 3.5+, you can use the {**d1, **d2} syntax or the update() method.\n",
    "d1= {1: 'Prathamesh', 2: 'Hitesh', 3: 'Rushya'}\n",
    "d2= {3: 'Rushyaa', 5:'Sakshi'}\n",
    "merged1= {**d1, **d2}\n",
    "print(merged1)\n",
    "\n",
    "# OR\n",
    "d1.update(d2)\n",
    "print(d1)\n",
    "\n",
    "#OR\n",
    "from itertools import chain\n",
    "merged2= dict(chain(d1.items(),d2.items()))\n",
    "print(merged2)\n"
   ]
  },
  {
   "cell_type": "code",
   "execution_count": null,
   "metadata": {},
   "outputs": [
    {
     "name": "stdout",
     "output_type": "stream",
     "text": [
      "10\n"
     ]
    }
   ],
   "source": [
    "# 37. Question: What does the @property decorator do in Python?\n",
    "# Answer: The @property decorator allows you to define methods in a class that can be accessed like attributes, without calling them as a method. This helps in implementing the getter behavior.\n",
    "\n",
    "class Circle:\n",
    "    def __init__(self, radius) :\n",
    "        self._radius= radius\n",
    "    \n",
    "    @property\n",
    "    def diameter(self):\n",
    "        return self._radius*2\n",
    "\n",
    "# circle= Circle(5)\n",
    "print(Circle(5).diameter)"
   ]
  },
  {
   "cell_type": "markdown",
   "metadata": {},
   "source": [
    "### Specifically, you can define three methods for a @property:\n",
    "##### A getter - to access the value of the attribute.\n",
    "##### A setter - to set the value of the attribute.\n",
    "##### A deleter - to delete the instance attribute.\n",
    "\n",
    "\"price\" is public value but\n",
    "\"_price\" is private value"
   ]
  },
  {
   "cell_type": "code",
   "execution_count": null,
   "metadata": {},
   "outputs": [
    {
     "name": "stdout",
     "output_type": "stream",
     "text": [
      "{'__module__': '__main__', '__init__': <function Immutable_class.__init__ at 0x00000278B2285A60>, 'value': <property object at 0x00000278B228F4A0>, '__dict__': <attribute '__dict__' of 'Immutable_class' objects>, '__weakref__': <attribute '__weakref__' of 'Immutable_class' objects>, '__doc__': None}\n"
     ]
    }
   ],
   "source": [
    "# 39. Question: How can you make an immutable class in Python?\n",
    "# Answer: By ensuring that all of its attributes are immutable and preventing any modification to its state after initialization. This often involves overriding methods that modify state or using private attributes.\n",
    "\n",
    "class Immutable_class:\n",
    "    def __init__(self, value):\n",
    "        self.__value= value\n",
    "\n",
    "    @property\n",
    "    def value(self):\n",
    "        return self.__value\n",
    "print(Immutable_class.__dict__)"
   ]
  },
  {
   "cell_type": "code",
   "execution_count": 35,
   "metadata": {},
   "outputs": [],
   "source": [
    "from multiprocessing import Pool\n",
    "\n",
    "def square(x):\n",
    "    return x * x\n",
    "\n",
    "with Pool(4) as p:  # Use 4 processes\n",
    "    result = p.map(square, [1, 2, 3, 4])\n",
    "print(result)"
   ]
  },
  {
   "cell_type": "code",
   "execution_count": 3,
   "metadata": {},
   "outputs": [
    {
     "name": "stdout",
     "output_type": "stream",
     "text": [
      "hello\n"
     ]
    }
   ],
   "source": [
    "# 42. descriptors\n",
    "\n",
    "class descriptors:\n",
    "\n",
    "    def __get__(self, instance, owner):\n",
    "        return instance._value\n",
    "    \n",
    "    def __set__(self, instance, value):\n",
    "        instance._value= value.upper()\n",
    "\n",
    "class MyClass:\n",
    "    attributes = descriptors()\n",
    "\n",
    "    def __init__(self, value):\n",
    "        self._value= value\n",
    "\n",
    "obj= MyClass(\"hello\")\n",
    "print(obj.attributes)\n",
    "    "
   ]
  },
  {
   "cell_type": "code",
   "execution_count": 9,
   "metadata": {},
   "outputs": [
    {
     "name": "stdout",
     "output_type": "stream",
     "text": [
      "olleh\n"
     ]
    }
   ],
   "source": [
    "# Reversing a string using python\n",
    "x= 'hello'\n",
    "print(x[::-1])"
   ]
  },
  {
   "cell_type": "code",
   "execution_count": 13,
   "metadata": {},
   "outputs": [
    {
     "ename": "ZeroDivisionError",
     "evalue": "division by zero",
     "output_type": "error",
     "traceback": [
      "\u001b[1;31m---------------------------------------------------------------------------\u001b[0m",
      "\u001b[1;31mZeroDivisionError\u001b[0m                         Traceback (most recent call last)",
      "\u001b[1;32md:\\Coading\\Python\\Practice\\Python_Interview_practise_questions.ipynb Cell 45\u001b[0m line \u001b[0;36m4\n\u001b[0;32m      <a href='vscode-notebook-cell:/d%3A/Coading/Python/Practice/Python_Interview_practise_questions.ipynb#X62sZmlsZQ%3D%3D?line=0'>1</a>\u001b[0m \u001b[39m# multiple exceptions in one line \u001b[39;00m\n\u001b[0;32m      <a href='vscode-notebook-cell:/d%3A/Coading/Python/Practice/Python_Interview_practise_questions.ipynb#X62sZmlsZQ%3D%3D?line=2'>3</a>\u001b[0m \u001b[39mtry\u001b[39;00m: \n\u001b[1;32m----> <a href='vscode-notebook-cell:/d%3A/Coading/Python/Practice/Python_Interview_practise_questions.ipynb#X62sZmlsZQ%3D%3D?line=3'>4</a>\u001b[0m     x\u001b[39m=\u001b[39m \u001b[39m1\u001b[39;49m\u001b[39m/\u001b[39;49m\u001b[39m0\u001b[39;49m\n\u001b[0;32m      <a href='vscode-notebook-cell:/d%3A/Coading/Python/Practice/Python_Interview_practise_questions.ipynb#X62sZmlsZQ%3D%3D?line=4'>5</a>\u001b[0m \u001b[39mexcept\u001b[39;00m (\u001b[39mTypeError\u001b[39;00m, \u001b[39mValueError\u001b[39;00m) \u001b[39mas\u001b[39;00m e:\n\u001b[0;32m      <a href='vscode-notebook-cell:/d%3A/Coading/Python/Practice/Python_Interview_practise_questions.ipynb#X62sZmlsZQ%3D%3D?line=5'>6</a>\u001b[0m     \u001b[39m# print(f\"Caught an error : {e}\")\u001b[39;00m\n\u001b[0;32m      <a href='vscode-notebook-cell:/d%3A/Coading/Python/Practice/Python_Interview_practise_questions.ipynb#X62sZmlsZQ%3D%3D?line=6'>7</a>\u001b[0m     \u001b[39mraise\u001b[39;00m e\n",
      "\u001b[1;31mZeroDivisionError\u001b[0m: division by zero"
     ]
    }
   ],
   "source": [
    "# multiple exceptions in one line \n",
    "\n",
    "try: \n",
    "    x= 1/0\n",
    "except (TypeError, ValueError) as e:\n",
    "    # print(f\"Caught an error : {e}\")\n",
    "    raise e"
   ]
  },
  {
   "cell_type": "code",
   "execution_count": 2,
   "metadata": {},
   "outputs": [
    {
     "name": "stdout",
     "output_type": "stream",
     "text": [
      "KL(P || Q): 2.246 bits\n",
      "KL(Q || P): 1.412 bits\n"
     ]
    }
   ],
   "source": [
    "# example of calculating the kl divergence between two mass functions\n",
    "from math import log2\n",
    "\n",
    "# calculate the kl divergence\n",
    "def kl_divergence(p, q):\n",
    "\treturn sum(p[i] * log2(p[i]/q[i]) for i in range(len(p)))\n",
    "\n",
    "# define distributions\n",
    "p = [0.20, 0.75, 0.50]\n",
    "q = [0.90, 0.10, 0.25]\n",
    "# calculate (P || Q)\n",
    "kl_pq = kl_divergence(p, q)\n",
    "print('KL(P || Q): %.3f bits' % kl_pq)\n",
    "# calculate (Q || P)\n",
    "kl_qp = kl_divergence(q, p)\n",
    "print('KL(Q || P): %.3f bits' % kl_qp)"
   ]
  },
  {
   "cell_type": "code",
   "execution_count": 3,
   "metadata": {},
   "outputs": [
    {
     "name": "stdout",
     "output_type": "stream",
     "text": [
      " Similarity between x and y is 0.375\n"
     ]
    }
   ],
   "source": [
    "import numpy as np\n",
    "\n",
    "def jaccard_binary(x,y):\n",
    "    \"\"\"A function for finding the similarity between two binary vectors\"\"\"\n",
    "    intersection = np.logical_and(x, y)\n",
    "    union = np.logical_or(x, y)\n",
    "    similarity = intersection.sum() / float(union.sum())\n",
    "    return similarity\n",
    "\n",
    "# Define some binary vectors\n",
    "# x = [0,1,0,0,0,1,0,0,1]\n",
    "# y = [0,0,1,0,0,0,0,0,1]\n",
    "# z = [1,1,0,0,0,1,0,0,0]\n",
    "x= [1, 0, 1, 0, 1, 0, 1, 0, 1, 0]\n",
    "y= [0, 0, 1, 1, 1, 1, 1, 1, 0, 0]\n",
    "\n",
    "\n",
    "# Find similarity among the vectors\n",
    "simxy = jaccard_binary(x,y)\n",
    "# simxz = jaccard_binary(x,z)\n",
    "# simyz = jaccard_binary(y,z)\n",
    "\n",
    "print(' Similarity between x and y is', simxy)\n"
   ]
  },
  {
   "cell_type": "code",
   "execution_count": 15,
   "metadata": {},
   "outputs": [
    {
     "name": "stdout",
     "output_type": "stream",
     "text": [
      "branch at :  2020\n",
      "branch at :  2022\n",
      "Area of city : 300\n"
     ]
    }
   ],
   "source": [
    "# class method and static method\n",
    "\n",
    "# static method\n",
    "\n",
    "# class method\n",
    "\n",
    "# within class\n",
    "class College:\n",
    "\n",
    "    @classmethod\n",
    "    def branch(College, year):\n",
    "        print(\"branch at : \", year)\n",
    "\n",
    "\n",
    "College.branch(2020) #called with class #or \n",
    "College().branch(2022) # called with class object/ instance \n",
    "\n",
    "# or outside the class\n",
    "class City:\n",
    "    km= 300\n",
    "\n",
    "    def area(object):\n",
    "        print(\"Area of city :\", object.km)\n",
    "\n",
    "City.area= classmethod(City.area)\n",
    "City.area()\n"
   ]
  },
  {
   "cell_type": "code",
   "execution_count": 11,
   "metadata": {},
   "outputs": [
    {
     "name": "stdout",
     "output_type": "stream",
     "text": [
      "Person named Alice\n"
     ]
    }
   ],
   "source": [
    "# 51. Question: What is the __str__ method in a class and when is it used?\n",
    "\n",
    "# Answer: The __str__ method is a special method that should return a string representation of the object. It's invoked by the built-in str() function and by the print() function when outputting the object.\n",
    "\n",
    "# The python __str__ method returns the object representation in a string format. This method is supposed to return a human-readable format which is used to display some information about the object.\n",
    "\n",
    "class Person:\n",
    "    def __init__(self, name):\n",
    "        self.name = name\n",
    "\n",
    "    def __str__(self):\n",
    "        return f\"Person named {self.name}\"\n",
    "\n",
    "p = Person(\"Alice\")\n",
    "print(p)  # Output: \"Person named Alice\""
   ]
  },
  {
   "cell_type": "code",
   "execution_count": 9,
   "metadata": {},
   "outputs": [
    {
     "name": "stdout",
     "output_type": "stream",
     "text": [
      "<__main__.MyClass object at 0x000001966A9ADCD0>\n",
      "<__main__.MyClass object at 0x000001966A9ADCD0>\n",
      "<__main__.MyClass object at 0x000001966A9ADCD0>\n"
     ]
    }
   ],
   "source": [
    "# str vs repr\n",
    "\n",
    "class MyClass:\n",
    "    x = 0\n",
    "    y = \"\"\n",
    "\n",
    "    def __init__(self, anyNumber, anyString):\n",
    "        self.x = anyNumber\n",
    "        self.y = anyString\n",
    "\n",
    "Myobject = MyClass(1234, \"Hello\")\n",
    "\n",
    "print(Myobject.__str__())\n",
    "print(Myobject.__repr__())\n",
    "print(Myobject)"
   ]
  },
  {
   "cell_type": "code",
   "execution_count": 15,
   "metadata": {},
   "outputs": [
    {
     "name": "stdout",
     "output_type": "stream",
     "text": [
      "MyClass(x=12345 ,y=Hello)\n",
      "MyClass(x=12345 ,y=Hello)\n",
      "MyClass(x=12345 ,y=Hello)\n",
      "<__main__.MyClass object at 0x000001966A8BEC50>\n",
      "1745544277072\n"
     ]
    }
   ],
   "source": [
    "#custom str\n",
    "\n",
    "class MyClass:\n",
    "    x = 0\n",
    "    y = \"\"\n",
    "\n",
    "    def __init__(self, anyNumber, anyString):\n",
    "        self.x = anyNumber\n",
    "        self.y = anyString\n",
    "    def __str__ (self):\n",
    "        return 'MyClass(x=' + str(self.x) + ' ,y=' + self.y + ')'\n",
    "myObject = MyClass(12345, \"Hello\")\n",
    "\n",
    "print(myObject.__str__())\n",
    "print(myObject)\n",
    "print(str(myObject))\n",
    "print(myObject.__repr__())\n",
    "\n",
    "print(id(myObject))"
   ]
  },
  {
   "cell_type": "code",
   "execution_count": 12,
   "metadata": {},
   "outputs": [
    {
     "name": "stdout",
     "output_type": "stream",
     "text": [
      "[1, 2, 3, 4, 5]\n"
     ]
    }
   ],
   "source": [
    "# 52. Question: How can you remove duplicate items from a list?\n",
    "\n",
    "mylist= [1,2,1,2,3,4,5]\n",
    "mylist= list(set(mylist))\n",
    "print(mylist)"
   ]
  },
  {
   "cell_type": "code",
   "execution_count": 16,
   "metadata": {},
   "outputs": [],
   "source": [
    "# 53. Question: What are decorators in Python?\n",
    "\n",
    "# Decorators are a very powerful and useful tool in Python since it allows programmers to modify the behaviour of a function or class. Decorators allow us to wrap another function in order to extend the behaviour of the wrapped function, without permanently modifying it. "
   ]
  },
  {
   "cell_type": "code",
   "execution_count": 4,
   "metadata": {},
   "outputs": [
    {
     "name": "stdout",
     "output_type": "stream",
     "text": [
      "Something is happening before the function is called.\n",
      "hello!\n",
      "Something is happening after the function is called.\n"
     ]
    }
   ],
   "source": [
    "def my_decorator(func):\n",
    "    def wrapper():\n",
    "        print(\"Something is happening before the function is called.\")\n",
    "        func()\n",
    "        print(\"Something is happening after the function is called.\")\n",
    "    return wrapper\n",
    "\n",
    "@my_decorator\n",
    "def func():\n",
    "    print(\"hello!\")\n",
    "\n",
    "func()"
   ]
  },
  {
   "cell_type": "code",
   "execution_count": 5,
   "metadata": {},
   "outputs": [],
   "source": [
    "# 54. Question: How can you implement method overloading in Python?\n",
    "\n",
    "# Two or more methods have the same name but different numbers of parameters or different types of parameters, or both. These methods are called overloaded methods and this is called method overloading. \n",
    "# Like other languages (for example, method overloading in C++) do, python does not support method overloading by default. But there are different ways to achieve method overloading in Python. \n"
   ]
  },
  {
   "cell_type": "markdown",
   "metadata": {},
   "source": [
    "### Method 1 (Not The Most Efficient Method):"
   ]
  },
  {
   "cell_type": "code",
   "execution_count": 9,
   "metadata": {},
   "outputs": [
    {
     "name": "stdout",
     "output_type": "stream",
     "text": [
      "6\n",
      "hello world!\n"
     ]
    }
   ],
   "source": [
    "def add (datatype, *args):\n",
    "    if datatype == \"int\":\n",
    "        answer = 0\n",
    "    if datatype == \"str\":\n",
    "        answer = \"\"\n",
    "    \n",
    "    for x in args:\n",
    "        answer= answer+ x\n",
    "    \n",
    "    print (answer)\n",
    "\n",
    "add(\"int\", 1,2,3)\n",
    "add(\"str\", \"hello \", \"world!\")\n"
   ]
  },
  {
   "cell_type": "markdown",
   "metadata": {},
   "source": [
    "### Method 2 (Efficient One):"
   ]
  },
  {
   "cell_type": "code",
   "execution_count": 12,
   "metadata": {},
   "outputs": [],
   "source": [
    "# ! pip install multipledispatch\n",
    "# ! pip list"
   ]
  },
  {
   "cell_type": "code",
   "execution_count": 16,
   "metadata": {},
   "outputs": [
    {
     "data": {
      "text/plain": [
       "1"
      ]
     },
     "execution_count": 16,
     "metadata": {},
     "output_type": "execute_result"
    }
   ],
   "source": [
    "from multipledispatch import dispatch\n",
    "\n",
    "@dispatch(int)\n",
    "def product(one):\n",
    "    return one\n",
    "\n",
    "@dispatch(int, int)\n",
    "def product(one, two):\n",
    "    return one, two\n",
    "\n",
    "@dispatch(float,float, float)\n",
    "def product(one, two, three):\n",
    "    return one, two, three\n",
    "\n",
    "product(1)"
   ]
  },
  {
   "cell_type": "code",
   "execution_count": 19,
   "metadata": {},
   "outputs": [
    {
     "name": "stdout",
     "output_type": "stream",
     "text": [
      "3\n"
     ]
    }
   ],
   "source": [
    "# 55. Question: What are lambda functions in Python?\n",
    "# Answer: Lambda functions are small, anonymous functions defined using the lambda keyword. They can have multiple inputs but just one expression.\n",
    "\n",
    "f= lambda x, y : x+y\n",
    "print(f(1, 2))"
   ]
  },
  {
   "cell_type": "code",
   "execution_count": 22,
   "metadata": {},
   "outputs": [],
   "source": [
    "# 56. Question: How can you achieve multi-level inheritance in Python?\n",
    "# Answer: Multi-level inheritance involves inheriting from a derived class, forming a chain of inheritance.\n",
    "\n",
    "class GrandParents:\n",
    "    pass\n",
    "\n",
    "class Parents(GrandParents):\n",
    "    pass\n",
    "\n",
    "class Child(Parents):\n",
    "    pass"
   ]
  },
  {
   "cell_type": "code",
   "execution_count": 26,
   "metadata": {},
   "outputs": [
    {
     "name": "stdout",
     "output_type": "stream",
     "text": [
      "1\n",
      "2\n",
      "3\n",
      "k: 8\n",
      "p: 9\n"
     ]
    }
   ],
   "source": [
    "# 57. Question: What is the *args and **kwargs syntax in function signatures, and how is it used?\n",
    "# Answer: *args and **kwargs are conventions used in Python to pass a variable number of non-keyword and keyword arguments, respectively, to a function.\n",
    "\n",
    "# *args: Passes variable-length non-keyworded arguments list.\n",
    "# **kwargs: Passes variable-length keyworded arguments dictionary.\n",
    "\n",
    "def func_example(*args, **kwargs):\n",
    "    for arg in args:\n",
    "        print(arg)\n",
    "    for key in kwargs:\n",
    "        print(f\"{key}: {kwargs[key]}\")\n",
    "\n",
    "func_example(1,2,3,k=8,p=9)\n"
   ]
  },
  {
   "cell_type": "markdown",
   "metadata": {},
   "source": [
    "## Data Structures"
   ]
  },
  {
   "cell_type": "code",
   "execution_count": 30,
   "metadata": {},
   "outputs": [
    {
     "name": "stdout",
     "output_type": "stream",
     "text": [
      "[1, 2]\n",
      "2\n",
      "[1]\n"
     ]
    }
   ],
   "source": [
    "# 58. Question: How can you implement a stack in Python?\n",
    "# Answer: You can use a list to implement a stack, utilizing the append() method for push operation and the pop() method for pop operation.\n",
    "\n",
    "stack = []\n",
    "stack.append(1) #push\n",
    "stack.append(2) #push\n",
    "print(stack)\n",
    "print(stack.pop()) # shows poped element \n",
    "print(stack)"
   ]
  },
  {
   "cell_type": "code",
   "execution_count": null,
   "metadata": {},
   "outputs": [],
   "source": []
  }
 ],
 "metadata": {
  "kernelspec": {
   "display_name": "DIP-EXP",
   "language": "python",
   "name": "python3"
  },
  "language_info": {
   "codemirror_mode": {
    "name": "ipython",
    "version": 3
   },
   "file_extension": ".py",
   "mimetype": "text/x-python",
   "name": "python",
   "nbconvert_exporter": "python",
   "pygments_lexer": "ipython3",
   "version": "3.11.0"
  }
 },
 "nbformat": 4,
 "nbformat_minor": 2
}
