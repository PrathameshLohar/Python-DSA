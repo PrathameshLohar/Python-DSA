{
 "cells": [
  {
   "cell_type": "markdown",
   "metadata": {},
   "source": [
    "1. Question: Given a list of numbers, write a Python function to find the second highest number.\n",
    "\n",
    "Answer: We can first convert the list into a set to remove duplicates. Then, we'll convert it back to a list and sort it. We can retrieve the second last element to get the second highest number."
   ]
  },
  {
   "cell_type": "code",
   "execution_count": null,
   "metadata": {},
   "outputs": [],
   "source": [
    "# https://www.youtube.com/watch?v=qPTfXwPf_HM&list=PLbXj1T3fW3UUDcnOGsNp4sPYo3smT4wih&index=2"
   ]
  },
  {
   "cell_type": "code",
   "execution_count": 6,
   "metadata": {},
   "outputs": [
    {
     "name": "stdout",
     "output_type": "stream",
     "text": [
      "6\n"
     ]
    }
   ],
   "source": [
    "numbers= [1,2,3,4,4,5,6,7,7]\n",
    "numbers= set(numbers)\n",
    "numbers= list(numbers)\n",
    "print(numbers[-2])"
   ]
  },
  {
   "cell_type": "markdown",
   "metadata": {},
   "source": [
    "2. Question: Write a function to compute the factorial of a number using recursion."
   ]
  },
  {
   "cell_type": "code",
   "execution_count": 10,
   "metadata": {},
   "outputs": [
    {
     "name": "stdout",
     "output_type": "stream",
     "text": [
      "120\n"
     ]
    }
   ],
   "source": [
    "def factorial(n):\n",
    "    if n==0:\n",
    "        return 1\n",
    "    else:\n",
    "        return n* factorial(n-1)\n",
    "    \n",
    "print(factorial(5))"
   ]
  },
  {
   "cell_type": "markdown",
   "metadata": {},
   "source": [
    "3. Question: You are given a list of strings. Write a function to filter out all strings that are palindromes.\n",
    "\n",
    "Answer: A palindrome is a word, phrase, number, or other sequences of characters that reads the same forward and backward (ignoring spaces, punctuation, and capitalization).\n",
    "\n",
    "The join() method takes all items in an iterable and joins them into one string.\n",
    "A string must be specified as the separator."
   ]
  },
  {
   "cell_type": "code",
   "execution_count": 79,
   "metadata": {},
   "outputs": [
    {
     "name": "stdout",
     "output_type": "stream",
     "text": [
      "John#Peter#Vicky\n"
     ]
    }
   ],
   "source": [
    "# Join all items in a tuple into a string, using a hash character as separator:\n",
    "\n",
    "myTuple = (\"John\", \"Peter\", \"Vicky\")\n",
    "\n",
    "x = \"#\".join(myTuple)\n",
    "\n",
    "print(x)"
   ]
  },
  {
   "cell_type": "code",
   "execution_count": 82,
   "metadata": {},
   "outputs": [
    {
     "name": "stdout",
     "output_type": "stream",
     "text": [
      "['TE NET', 'Wow', 'a917 719a']\n"
     ]
    }
   ],
   "source": [
    "def is_palindrome(s):\n",
    "    s= ''.join(e for e in s if e.isalnum())\n",
    "    return s.lower() == s.lower()[::-1]\n",
    "\n",
    "def filter(list):\n",
    "    return [s for s in list if is_palindrome(s)] # list compression\n",
    "\n",
    "list = [\"new\", \"TE NET\", \"hello\", \"Wow\", \"a917 719a\"]\n",
    "\n",
    "print(filter(list))"
   ]
  },
  {
   "cell_type": "code",
   "execution_count": 83,
   "metadata": {},
   "outputs": [
    {
     "name": "stdout",
     "output_type": "stream",
     "text": [
      "hsemahtarp prathames h hmtp\n"
     ]
    }
   ],
   "source": [
    "s= \"prathamesh\"\n",
    "print(s[::-1],\n",
    "s[:-1:],\n",
    "s[-1::],\n",
    "s[::-3])"
   ]
  },
  {
   "cell_type": "markdown",
   "metadata": {},
   "source": [
    "4. Question: Given a string, write a function to check if it is an anagram of another string.\n",
    "\n",
    "Answer: An anagram is a word or phrase formed by rearranging the letters of a different word or phrase, typically using all the original letters exactly once.\n",
    "sorted is a function which sorts the alphabets of words and by using sorted we compare words easily.."
   ]
  },
  {
   "cell_type": "code",
   "execution_count": 84,
   "metadata": {},
   "outputs": [
    {
     "name": "stdout",
     "output_type": "stream",
     "text": [
      "True\n"
     ]
    }
   ],
   "source": [
    "def anagram (s1, s2):\n",
    "    return sorted(s1)== sorted(s2)\n",
    "\n",
    "str1= \"listen\"\n",
    "str2= \"silent\"\n",
    "\n",
    "print(anagram(str1, str2))"
   ]
  },
  {
   "cell_type": "code",
   "execution_count": 85,
   "metadata": {},
   "outputs": [
    {
     "name": "stdout",
     "output_type": "stream",
     "text": [
      "['e', 'i', 'l', 'n', 's', 't']\n",
      "['e', 'i', 'l', 'n', 's', 't']\n"
     ]
    }
   ],
   "source": [
    "print(sorted(str1))\n",
    "print(sorted(str2))"
   ]
  },
  {
   "cell_type": "markdown",
   "metadata": {},
   "source": [
    "5. Question: Write a function to flatten a nested list.\n",
    "\n",
    "Answer:     The isinstance() function returns True if the specified object is of the specified type, otherwise False."
   ]
  },
  {
   "cell_type": "code",
   "execution_count": 89,
   "metadata": {},
   "outputs": [
    {
     "ename": "TypeError",
     "evalue": "isinstance() arg 2 must be a type, a tuple of types, or a union",
     "output_type": "error",
     "traceback": [
      "\u001b[1;31m---------------------------------------------------------------------------\u001b[0m",
      "\u001b[1;31mTypeError\u001b[0m                                 Traceback (most recent call last)",
      "\u001b[1;32md:\\Coading\\Python\\Practice\\Python Interview Usecases.ipynb Cell 13\u001b[0m line \u001b[0;36m1\n\u001b[0;32m     <a href='vscode-notebook-cell:/d%3A/Coading/Python/Practice/Python%20Interview%20Usecases.ipynb#X13sZmlsZQ%3D%3D?line=11'>12</a>\u001b[0m lst2\u001b[39m=\u001b[39m [\u001b[39m1\u001b[39m,\u001b[39m2\u001b[39m,[\u001b[39m3\u001b[39m,\u001b[39m4\u001b[39m,[\u001b[39m5\u001b[39m,\u001b[39m6\u001b[39m]]] \u001b[39m#but for nested list we hae to use recursion\u001b[39;00m\n\u001b[0;32m     <a href='vscode-notebook-cell:/d%3A/Coading/Python/Practice/Python%20Interview%20Usecases.ipynb#X13sZmlsZQ%3D%3D?line=13'>14</a>\u001b[0m \u001b[39m# print(flatten_list(lst))\u001b[39;00m\n\u001b[1;32m---> <a href='vscode-notebook-cell:/d%3A/Coading/Python/Practice/Python%20Interview%20Usecases.ipynb#X13sZmlsZQ%3D%3D?line=14'>15</a>\u001b[0m \u001b[39mprint\u001b[39m(flatten_list(lst2))\n",
      "\u001b[1;32md:\\Coading\\Python\\Practice\\Python Interview Usecases.ipynb Cell 13\u001b[0m line \u001b[0;36m4\n\u001b[0;32m      <a href='vscode-notebook-cell:/d%3A/Coading/Python/Practice/Python%20Interview%20Usecases.ipynb#X13sZmlsZQ%3D%3D?line=1'>2</a>\u001b[0m result\u001b[39m=\u001b[39m []\n\u001b[0;32m      <a href='vscode-notebook-cell:/d%3A/Coading/Python/Practice/Python%20Interview%20Usecases.ipynb#X13sZmlsZQ%3D%3D?line=2'>3</a>\u001b[0m \u001b[39mfor\u001b[39;00m i \u001b[39min\u001b[39;00m lst:\n\u001b[1;32m----> <a href='vscode-notebook-cell:/d%3A/Coading/Python/Practice/Python%20Interview%20Usecases.ipynb#X13sZmlsZQ%3D%3D?line=3'>4</a>\u001b[0m     \u001b[39mif\u001b[39;00m \u001b[39misinstance\u001b[39;49m(i, \u001b[39mlist\u001b[39;49m):\n\u001b[0;32m      <a href='vscode-notebook-cell:/d%3A/Coading/Python/Practice/Python%20Interview%20Usecases.ipynb#X13sZmlsZQ%3D%3D?line=4'>5</a>\u001b[0m         \u001b[39m# result.extend(i)\u001b[39;00m\n\u001b[0;32m      <a href='vscode-notebook-cell:/d%3A/Coading/Python/Practice/Python%20Interview%20Usecases.ipynb#X13sZmlsZQ%3D%3D?line=5'>6</a>\u001b[0m         result\u001b[39m.\u001b[39mextend(flatten_list(i))\n\u001b[0;32m      <a href='vscode-notebook-cell:/d%3A/Coading/Python/Practice/Python%20Interview%20Usecases.ipynb#X13sZmlsZQ%3D%3D?line=6'>7</a>\u001b[0m     \u001b[39melse\u001b[39;00m:\n",
      "\u001b[1;31mTypeError\u001b[0m: isinstance() arg 2 must be a type, a tuple of types, or a union"
     ]
    }
   ],
   "source": [
    "def flatten_list(lst):\n",
    "    result= []\n",
    "    for i in lst:\n",
    "        if isinstance(i, list):\n",
    "            # result.extend(i)\n",
    "            result.extend(flatten_list(i))\n",
    "        else:\n",
    "            result.append(i)\n",
    "    return result\n",
    "\n",
    "lst= [1,2,[3,4],5]  #this will work properly \n",
    "lst2= [1,2,[3,4,[5,6]]] #but for nested list we hae to use recursion\n",
    "\n",
    "# print(flatten_list(lst))\n",
    "print(flatten_list(lst2))\n",
    "\n"
   ]
  },
  {
   "cell_type": "markdown",
   "metadata": {},
   "source": [
    "6. Question: Given two lists, write a function that returns the elements that are common to both lists.\n",
    "\n",
    "Answer:"
   ]
  },
  {
   "cell_type": "code",
   "execution_count": 91,
   "metadata": {},
   "outputs": [
    {
     "ename": "TypeError",
     "evalue": "'list' object is not callable",
     "output_type": "error",
     "traceback": [
      "\u001b[1;31m---------------------------------------------------------------------------\u001b[0m",
      "\u001b[1;31mTypeError\u001b[0m                                 Traceback (most recent call last)",
      "\u001b[1;32md:\\Coading\\Python\\Practice\\Python Interview Usecases.ipynb Cell 15\u001b[0m line \u001b[0;36m7\n\u001b[0;32m      <a href='vscode-notebook-cell:/d%3A/Coading/Python/Practice/Python%20Interview%20Usecases.ipynb#X15sZmlsZQ%3D%3D?line=3'>4</a>\u001b[0m lst1\u001b[39m=\u001b[39m [\u001b[39m1\u001b[39m,\u001b[39m2\u001b[39m,\u001b[39m3\u001b[39m,\u001b[39m4\u001b[39m,\u001b[39m5\u001b[39m]\n\u001b[0;32m      <a href='vscode-notebook-cell:/d%3A/Coading/Python/Practice/Python%20Interview%20Usecases.ipynb#X15sZmlsZQ%3D%3D?line=4'>5</a>\u001b[0m lst2\u001b[39m=\u001b[39m [\u001b[39m4\u001b[39m,\u001b[39m6\u001b[39m,\u001b[39m7\u001b[39m,\u001b[39m5\u001b[39m,\u001b[39m8\u001b[39m]\n\u001b[1;32m----> <a href='vscode-notebook-cell:/d%3A/Coading/Python/Practice/Python%20Interview%20Usecases.ipynb#X15sZmlsZQ%3D%3D?line=6'>7</a>\u001b[0m \u001b[39mprint\u001b[39m(common_elements(lst1, lst2))\n",
      "\u001b[1;32md:\\Coading\\Python\\Practice\\Python Interview Usecases.ipynb Cell 15\u001b[0m line \u001b[0;36m2\n\u001b[0;32m      <a href='vscode-notebook-cell:/d%3A/Coading/Python/Practice/Python%20Interview%20Usecases.ipynb#X15sZmlsZQ%3D%3D?line=0'>1</a>\u001b[0m \u001b[39mdef\u001b[39;00m \u001b[39mcommon_elements\u001b[39m(l1, l2):\n\u001b[1;32m----> <a href='vscode-notebook-cell:/d%3A/Coading/Python/Practice/Python%20Interview%20Usecases.ipynb#X15sZmlsZQ%3D%3D?line=1'>2</a>\u001b[0m     \u001b[39mreturn\u001b[39;00m \u001b[39mlist\u001b[39;49m(\u001b[39mset\u001b[39;49m(l1) \u001b[39m&\u001b[39;49m \u001b[39mset\u001b[39;49m(l2))\n",
      "\u001b[1;31mTypeError\u001b[0m: 'list' object is not callable"
     ]
    }
   ],
   "source": [
    "def common_elements(l1, l2):\n",
    "    return list(set(l1) & set(l2))\n",
    "\n",
    "lst1= [1,2,3,4,5]\n",
    "lst2= [4,6,7,5,8]\n",
    "\n",
    "print(common_elements(lst1, lst2))"
   ]
  },
  {
   "cell_type": "markdown",
   "metadata": {},
   "source": [
    "7. Question: Write a function that returns the number of words in a string.\n",
    "\n",
    "Answer: The split() method splits a string into a list.\n",
    "\n",
    "Syntax:\n",
    "        string.split(separator, maxsplit)"
   ]
  },
  {
   "cell_type": "code",
   "execution_count": 30,
   "metadata": {},
   "outputs": [
    {
     "name": "stdout",
     "output_type": "stream",
     "text": [
      "5\n"
     ]
    }
   ],
   "source": [
    "def word_count(s):\n",
    "    # return len(s)\n",
    "    return len(s.split())\n",
    "\n",
    "str= \"Hello my name is Prathamesh\"\n",
    "print(word_count(str))"
   ]
  },
  {
   "cell_type": "code",
   "execution_count": 33,
   "metadata": {},
   "outputs": [
    {
     "name": "stdout",
     "output_type": "stream",
     "text": [
      "['apple', 'banana', 'cherry#orange']\n"
     ]
    }
   ],
   "source": [
    "txt = \"apple#banana#cherry#orange\"\n",
    "\n",
    "# setting the maxsplit parameter to 1, will return a list with 2 elements!\n",
    "x = txt.split(\"#\", 2)\n",
    "\n",
    "print(x)"
   ]
  },
  {
   "cell_type": "markdown",
   "metadata": {},
   "source": [
    "8. Question: Write a Python function to merge two dictionaries. If both dictionaries have the same key, prefer the second dictionary's value.\n",
    "\n",
    "Answer:"
   ]
  },
  {
   "cell_type": "code",
   "execution_count": 94,
   "metadata": {},
   "outputs": [
    {
     "name": "stdout",
     "output_type": "stream",
     "text": [
      "{'a': 12, 'b': 15, 'c': 20}\n"
     ]
    }
   ],
   "source": [
    "def merged_dict(d1, d2):\n",
    "    # merged= d1.copy()\n",
    "    d1.update(d2)\n",
    "    return d1\n",
    "\n",
    "\n",
    "d1 = {\"a\": 12, \"b\": 13}\n",
    "d2 = {\"b\": 15, \"c\": 20}\n",
    "\n",
    "print(merged_dict(d1, d2))\n"
   ]
  },
  {
   "cell_type": "markdown",
   "metadata": {},
   "source": [
    "9. Question: Write a function that finds the most repeated character in a string.\n",
    "\n",
    "Answer:"
   ]
  },
  {
   "cell_type": "code",
   "execution_count": 71,
   "metadata": {},
   "outputs": [
    {
     "data": {
      "text/plain": [
       "{'p': 1,\n",
       " 'r': 2,\n",
       " 'a': 3,\n",
       " 't': 1,\n",
       " 'h': 3,\n",
       " 'm': 1,\n",
       " 'e': 1,\n",
       " 's': 1,\n",
       " ' ': 1,\n",
       " 'l': 1,\n",
       " 'o': 1}"
      ]
     },
     "execution_count": 71,
     "metadata": {},
     "output_type": "execute_result"
    }
   ],
   "source": [
    "# code for couning each alphaet from the string\n",
    "\n",
    "def count(str):\n",
    "    str= str.lower()\n",
    "    dict= {}\n",
    "\n",
    "    for char in str:\n",
    "        if char in dict:\n",
    "            dict[char] += 1\n",
    "        else:\n",
    "            dict[char]= 1\n",
    "    return dict\n",
    "\n",
    "str= \"Prathamesh Lohar\"\n",
    "count(str)"
   ]
  },
  {
   "cell_type": "code",
   "execution_count": 72,
   "metadata": {},
   "outputs": [
    {
     "name": "stdout",
     "output_type": "stream",
     "text": [
      "l\n"
     ]
    }
   ],
   "source": [
    "# code for the alphabets which has been occured maximum\n",
    "\n",
    "def max_count(str):\n",
    "    dict= {}\n",
    "    for i in str:\n",
    "        if i in dict :\n",
    "            dict[i] += 1\n",
    "        else:\n",
    "            dict[i]= 1\n",
    "   \n",
    "    max_char= max(dict, key=dict.get)\n",
    "    return max_char\n",
    "\n",
    "str= \"Hello\"\n",
    "print (max_count(str))"
   ]
  },
  {
   "cell_type": "code",
   "execution_count": 96,
   "metadata": {},
   "outputs": [
    {
     "name": "stdout",
     "output_type": "stream",
     "text": [
      "15000\n",
      "{'brand': 'Ford', 'model': 'Mustang', 'year': 1964}\n"
     ]
    }
   ],
   "source": [
    "# Try to return the value of an item that do not exist:\n",
    "\n",
    "car = {\n",
    "  \"brand\": \"Ford\",\n",
    "  \"model\": \"Mustang\",\n",
    "  \"year\": 1964\n",
    "}\n",
    "\n",
    "x = car.get(\"price\", 15000)\n",
    "\n",
    "print(x)\n",
    "print(car)"
   ]
  },
  {
   "cell_type": "markdown",
   "metadata": {},
   "source": [
    "10. Question: Write a function that checks if a string contains all letters of the alphabet at least once.\n",
    "\n",
    "Answer:"
   ]
  },
  {
   "cell_type": "code",
   "execution_count": 97,
   "metadata": {},
   "outputs": [
    {
     "data": {
      "text/plain": [
       "True"
      ]
     },
     "execution_count": 97,
     "metadata": {},
     "output_type": "execute_result"
    }
   ],
   "source": [
    "import string\n",
    "\n",
    "def aplha_check(str):\n",
    "    alphabet = set(string.ascii_lowercase)\n",
    "    return len(set(str)) >= len(alphabet)\n",
    "\n",
    "# str= \"Hello I am Prathamesh\"\n",
    "str = \"The quick brown fox jumps over the lazy dog\"\n",
    "aplha_check(str)\n"
   ]
  },
  {
   "cell_type": "markdown",
   "metadata": {},
   "source": [
    "11. Question: Write a function that checks if a given string is a valid IPv4 address.\n",
    "\n",
    "Answer:"
   ]
  },
  {
   "cell_type": "code",
   "execution_count": 2,
   "metadata": {},
   "outputs": [
    {
     "name": "stdout",
     "output_type": "stream",
     "text": [
      "True\n"
     ]
    }
   ],
   "source": [
    "def is_valid_ip(ip):\n",
    "    parts= ip.split(\".\")\n",
    "    if len(parts)!=4:\n",
    "        return False\n",
    "    for i in parts:\n",
    "        if not i.isdigit():\n",
    "            return False\n",
    "        num= int(i)\n",
    "\n",
    "        if num < 0 or num > 255:\n",
    "            return False\n",
    "    \n",
    "    return True\n",
    "\n",
    "address= \"192.168.2.10\"\n",
    "print(is_valid_ip(address))\n",
    "            \n"
   ]
  },
  {
   "cell_type": "markdown",
   "metadata": {},
   "source": [
    "12. Question: Given a list of numbers, write a function to compute the mean, median, and mode.\n",
    "\n",
    "Answer:\n"
   ]
  },
  {
   "cell_type": "code",
   "execution_count": 4,
   "metadata": {},
   "outputs": [
    {
     "name": "stdout",
     "output_type": "stream",
     "text": [
      "(3, 3, 1)\n"
     ]
    }
   ],
   "source": [
    "from statistics import mean, median, mode \n",
    "\n",
    "def stats(numbers):\n",
    "    return(\n",
    "        mean(numbers),\n",
    "        median(numbers),\n",
    "        mode(numbers)\n",
    "    )\n",
    "\n",
    "numbers= [1,2,3,4,5]\n",
    "print(stats(numbers))"
   ]
  },
  {
   "cell_type": "markdown",
   "metadata": {},
   "source": [
    "13. Question: Write a function to compute the Fibonacci series up to n.\n",
    "\n",
    "Answer:"
   ]
  },
  {
   "cell_type": "code",
   "execution_count": 6,
   "metadata": {},
   "outputs": [
    {
     "name": "stdout",
     "output_type": "stream",
     "text": [
      "[0, 1, 1]\n"
     ]
    }
   ],
   "source": [
    "series = [0,1]\n",
    "series.append(series[-1]+series[-2])\n",
    "print(series)"
   ]
  },
  {
   "cell_type": "code",
   "execution_count": 9,
   "metadata": {},
   "outputs": [
    {
     "name": "stdout",
     "output_type": "stream",
     "text": [
      "[0, 1, 1, 2, 3, 5, 8, 13, 21, 34]\n"
     ]
    }
   ],
   "source": [
    "def fibbonacci (n):\n",
    "    series= [0,1]\n",
    "    while len(series)< n:\n",
    "        series.append(series[-1]+series[-2])\n",
    "    return series\n",
    "\n",
    "number= 10\n",
    "print(fibbonacci(number))"
   ]
  },
  {
   "cell_type": "markdown",
   "metadata": {},
   "source": [
    "14. Question: Given a string, write a function that returns the first non-repeated character.\n",
    "\n",
    "Answer:"
   ]
  },
  {
   "cell_type": "code",
   "execution_count": 12,
   "metadata": {},
   "outputs": [
    {
     "name": "stdout",
     "output_type": "stream",
     "text": [
      "w\n"
     ]
    }
   ],
   "source": [
    "def char_repeated_first(str):\n",
    "    repeat= {}\n",
    "    for i in str:\n",
    "        if i not in repeat:\n",
    "            repeat[i]= 1\n",
    "        else:\n",
    "            repeat[i]+=1\n",
    "            \n",
    "    for i in repeat:\n",
    "        if repeat[i]== 1:\n",
    "            return i\n",
    "    # for i in str:\n",
    "    #     if repeat[i]== 1:\n",
    "    #         return i\n",
    "    \n",
    "    return None\n",
    "\n",
    "str = \"swiss\"\n",
    "print(char_repeated_first(str))"
   ]
  },
  {
   "cell_type": "markdown",
   "metadata": {},
   "source": [
    "15. Question: Write a function to check if two strings are a rotation of each other (e.g., \"abcde\" and \"cdeab\" are rotations of each other).\n",
    "\n",
    "Answer:"
   ]
  },
  {
   "cell_type": "code",
   "execution_count": 18,
   "metadata": {},
   "outputs": [
    {
     "data": {
      "text/plain": [
       "True"
      ]
     },
     "execution_count": 18,
     "metadata": {},
     "output_type": "execute_result"
    }
   ],
   "source": [
    "def are_rotation(str1, str2):\n",
    "    if len (str1) != len(str2):\n",
    "        return False\n",
    "    else:\n",
    "        return str1 in str2+str2\n",
    "\n",
    "str1 = \"hello\"\n",
    "str2 = \"llohe\"\n",
    "are_rotation(str1, str2)\n"
   ]
  },
  {
   "cell_type": "markdown",
   "metadata": {},
   "source": [
    "16. Question: Write a function to determine if a string has all unique characters (i.e., no character is repeated).\n",
    "\n",
    "Answer:"
   ]
  },
  {
   "cell_type": "code",
   "execution_count": 5,
   "metadata": {},
   "outputs": [
    {
     "name": "stdout",
     "output_type": "stream",
     "text": [
      "True\n"
     ]
    }
   ],
   "source": [
    "# str= \"hello\"\n",
    "# print(set(str))\n",
    "# print(len(set(str)))\n",
    "\n",
    "def unique_char (s):\n",
    "    return len(s)== len(set(s))\n",
    "\n",
    "string= \"abcdef\"\n",
    "print(unique_char(string))"
   ]
  },
  {
   "cell_type": "markdown",
   "metadata": {},
   "source": [
    "17. Question: Write a function that returns the longest consecutive subsequence in a list of numbers.\n",
    "\n",
    "Answer: while we using \"sorted\" function it always gives us an list of sorted elements, even we use diff data structures(list, set) insie that \"sorted\" function"
   ]
  },
  {
   "cell_type": "code",
   "execution_count": 8,
   "metadata": {},
   "outputs": [],
   "source": [
    "def longest_consecutive_subsequent(nums):\n",
    "    if not nums:\n",
    "        return []\n",
    "    \n",
    "    nums= sorted(set(nums))\n",
    "    # print(type(nums)) # it gives us list\n",
    "\n",
    "    longest_streak= []\n",
    "    current_streak= [nums[0]]\n",
    "\n",
    "    for i in range(1, len(nums)):\n",
    "        if nums[i] - nums[i-1]==1:\n",
    "            current_streak.append(nums[i])   \n",
    "        else:\n",
    "            if len(current_streak) > len(longest_streak):\n",
    "                longest_streak = current_streak\n",
    "            current_streak = [nums[i]]\n",
    "    return longest_streak if len(longest_streak) > len(current_streak) else current_streak\n"
   ]
  },
  {
   "cell_type": "code",
   "execution_count": 10,
   "metadata": {},
   "outputs": [
    {
     "data": {
      "text/plain": [
       "[20, 21, 22, 23, 24, 25]"
      ]
     },
     "execution_count": 10,
     "metadata": {},
     "output_type": "execute_result"
    }
   ],
   "source": [
    "longest_consecutive_subsequent([1,2,3,4,6,7,8,10,11,20,21,22,23,24,25])"
   ]
  },
  {
   "cell_type": "markdown",
   "metadata": {},
   "source": [
    "18. Question: Write a function to compute the square root of a given non-negative integer n without using built-in square root functions or libraries. Return the floor value of the result."
   ]
  },
  {
   "cell_type": "code",
   "execution_count": 7,
   "metadata": {},
   "outputs": [],
   "source": [
    "def sqrt(n): # n= 17\n",
    "    if n < 0:\n",
    "        return None\n",
    "    if n == 1:\n",
    "        return 1\n",
    "    \n",
    "    start, end= 0,n\n",
    "\n",
    "    while start<= end:\n",
    "        mid = (start + end)//2 #17//2= 8 \n",
    "        if (mid*mid)==n: #8!=17\n",
    "            return mid\n",
    "        elif (mid*mid)< n: #64!<17\n",
    "            start= mid+1\n",
    "            ans= mid\n",
    "        else:\n",
    "            end= mid-1 #end= 8-1=7\n",
    "    return ans        "
   ]
  },
  {
   "cell_type": "code",
   "execution_count": 8,
   "metadata": {},
   "outputs": [
    {
     "data": {
      "text/plain": [
       "4"
      ]
     },
     "execution_count": 8,
     "metadata": {},
     "output_type": "execute_result"
    }
   ],
   "source": [
    "\n",
    "sqrt(17)"
   ]
  },
  {
   "cell_type": "markdown",
   "metadata": {},
   "source": [
    "19. Question: Given a list of integers, write a function to move all zeros to the end of the list while maintaining the order of the other elements."
   ]
  },
  {
   "cell_type": "code",
   "execution_count": 2,
   "metadata": {},
   "outputs": [],
   "source": [
    "def move_zero(nums):\n",
    "    count = nums.count(0)\n",
    "    nums= [num for num in nums if num != 0]\n",
    "    nums.extend([0]*count)\n",
    "    return nums"
   ]
  },
  {
   "cell_type": "code",
   "execution_count": 3,
   "metadata": {},
   "outputs": [
    {
     "data": {
      "text/plain": [
       "[1, 2, 3, 4, 5, 6, 0, 0, 0, 0, 0]"
      ]
     },
     "execution_count": 3,
     "metadata": {},
     "output_type": "execute_result"
    }
   ],
   "source": [
    "move_zero([1,2,0,3,4,0,0,5,0,0,6])"
   ]
  },
  {
   "cell_type": "markdown",
   "metadata": {},
   "source": [
    "20. Question: Write a function that returns the sum of two numbers represented as strings. Your function should not use built-in arithmetic operators or functions."
   ]
  },
  {
   "cell_type": "code",
   "execution_count": 6,
   "metadata": {},
   "outputs": [],
   "source": [
    "def add_str(num1, num2):\n",
    "    result, carry, i, j= \"\", 0, len(num1)-1, len(num2)-1\n",
    "    while i>=0 or j>=0 or carry:\n",
    "        n1= int(num1[i]) if i>=0 else 0\n",
    "        n2= int(num2[j]) if j>=0 else 0\n",
    "        temp_sum= n1+ n2+ carry\n",
    "\n",
    "        result= str(temp_sum % 10) + result\n",
    "        carry= temp_sum// 10\n",
    "        i, j= i-1, j-1\n",
    "    return result\n"
   ]
  },
  {
   "cell_type": "code",
   "execution_count": 4,
   "metadata": {},
   "outputs": [
    {
     "data": {
      "text/plain": [
       "'15'"
      ]
     },
     "execution_count": 4,
     "metadata": {},
     "output_type": "execute_result"
    }
   ],
   "source": [
    "str(11%10)+ \"5\""
   ]
  },
  {
   "cell_type": "code",
   "execution_count": 5,
   "metadata": {},
   "outputs": [
    {
     "data": {
      "text/plain": [
       "7"
      ]
     },
     "execution_count": 5,
     "metadata": {},
     "output_type": "execute_result"
    }
   ],
   "source": [
    "15//2"
   ]
  },
  {
   "cell_type": "code",
   "execution_count": 8,
   "metadata": {},
   "outputs": [
    {
     "data": {
      "text/plain": [
       "'912'"
      ]
     },
     "execution_count": 8,
     "metadata": {},
     "output_type": "execute_result"
    }
   ],
   "source": [
    "add_str(\"123\", \"789\")"
   ]
  },
  {
   "cell_type": "markdown",
   "metadata": {},
   "source": [
    "21. Question: Write a function that checks if a given binary tree is a valid binary search tree."
   ]
  },
  {
   "cell_type": "code",
   "execution_count": 9,
   "metadata": {},
   "outputs": [],
   "source": [
    "class TreeNode:\n",
    "    def __init__(self, value=0, left= None, right= None):\n",
    "        self.value= value\n",
    "        self.left= left\n",
    "        self.right= right\n"
   ]
  },
  {
   "cell_type": "code",
   "execution_count": 10,
   "metadata": {},
   "outputs": [],
   "source": [
    "def is_valid_bst(root, left=None, right= None):\n",
    "    if not root:\n",
    "        return True\n",
    "    if left and root.value <= left.value:\n",
    "        return False\n",
    "    if right and root.value >= right.value:\n",
    "        return False\n",
    "    return is_valid_bst(root.left, left, right) and is_valid_bst(root.right, left, right)\n",
    "     "
   ]
  },
  {
   "cell_type": "code",
   "execution_count": 12,
   "metadata": {},
   "outputs": [
    {
     "name": "stdout",
     "output_type": "stream",
     "text": [
      "True\n"
     ]
    }
   ],
   "source": [
    "# Example usage:\n",
    "root = TreeNode(2, TreeNode(1), TreeNode(3))\n",
    "print(is_valid_bst(root))  \n"
   ]
  },
  {
   "cell_type": "markdown",
   "metadata": {},
   "source": [
    "22. Question: Write a function to find the longest common prefix of a list of strings.\n",
    "\n"
   ]
  },
  {
   "cell_type": "code",
   "execution_count": 1,
   "metadata": {},
   "outputs": [],
   "source": [
    "h_list= [\"hello\", 7, 9, 10]"
   ]
  },
  {
   "cell_type": "code",
   "execution_count": null,
   "metadata": {},
   "outputs": [],
   "source": []
  }
 ],
 "metadata": {
  "kernelspec": {
   "display_name": "Pandas & Numpy",
   "language": "python",
   "name": "python3"
  },
  "language_info": {
   "codemirror_mode": {
    "name": "ipython",
    "version": 3
   },
   "file_extension": ".py",
   "mimetype": "text/x-python",
   "name": "python",
   "nbconvert_exporter": "python",
   "pygments_lexer": "ipython3",
   "version": "3.11.0"
  }
 },
 "nbformat": 4,
 "nbformat_minor": 2
}
